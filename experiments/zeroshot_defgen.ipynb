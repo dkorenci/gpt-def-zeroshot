{
 "cells": [
  {
   "cell_type": "markdown",
   "id": "26bf177b",
   "metadata": {},
   "source": [
    "# GPT experiments"
   ]
  },
  {
   "cell_type": "code",
   "execution_count": null,
   "id": "6742ddf3",
   "metadata": {},
   "outputs": [],
   "source": [
    "%%javascript\n",
    "$('<div id=\"toc\"></div>').css({position: 'fixed', top: '120px', left: 0}).appendTo(document.body);\n",
    "$.getScript('https://kmahelona.github.io/ipython_notebook_goodies/ipython_notebook_toc.js');\n"
   ]
  },
  {
   "cell_type": "markdown",
   "id": "0cd93314",
   "metadata": {},
   "source": [
    "# Imports and functions"
   ]
  },
  {
   "cell_type": "code",
   "execution_count": null,
   "id": "9dab95c9",
   "metadata": {},
   "outputs": [],
   "source": [
    "import pandas as pd\n",
    "import numpy as np\n",
    "import torch\n",
    "import requests\n",
    "import json\n",
    "import re\n",
    "import random\n",
    "from tqdm import tqdm, trange\n",
    "import time\n",
    "import copy\n",
    "import backoff\n",
    "import os\n",
    "\n",
    "from sklearn.metrics import matthews_corrcoef\n",
    "from rouge_score import rouge_scorer\n",
    "import seaborn as sn\n",
    "import matplotlib.pyplot as plt"
   ]
  },
  {
   "cell_type": "code",
   "execution_count": null,
   "id": "a4597aa0",
   "metadata": {},
   "outputs": [],
   "source": [
    "import openai\n",
    "import tiktoken\n",
    "OPENAI_API_KEY = \"\" # your openai api key\n",
    "openai.api_key = OPENAI_API_KEY\n"
   ]
  },
  {
   "cell_type": "code",
   "execution_count": null,
   "id": "8e6efc15",
   "metadata": {},
   "outputs": [],
   "source": [
    "def normalize_text(text):\n",
    "    text = text.replace('&amp;', '&')\n",
    "    text = text.replace('\\xa0', '')\n",
    "    text = re.sub(r'http\\S+', '', text)\n",
    "    text = \" \".join(text.split())\n",
    "    return text\n",
    "\n",
    "@backoff.on_exception(backoff.expo, openai.error.RateLimitError)\n",
    "def completions_with_backoff(**kwargs):\n",
    "    return openai.ChatCompletion.create(**kwargs)\n",
    "\n",
    "def sample_from_df(df, N, column_name, level=2, seed = 0):\n",
    "    \n",
    "    tmp = df[df[column_name]==level]\n",
    "    tmp2 = tmp.sample(N, random_state=seed)\n",
    "    examples_not_normalized = tmp2['tweet_text'].tolist()\n",
    "    examples = []\n",
    "    for e in examples_not_normalized:\n",
    "        examples.append(normalize_text(e))\n",
    "    ids = tmp2['tweet_id'].tolist()\n",
    "\n",
    "    return examples, ids"
   ]
  },
  {
   "cell_type": "code",
   "execution_count": null,
   "id": "6f033b23",
   "metadata": {},
   "outputs": [],
   "source": [
    "conspiracy_definitions = [\"Suppressed cures: Narratives which propose that effective medications for COVID-19 were available, but whose existence or effectiveness has been denied by authorities, either for financial gain by the vaccine producers or some other harmful intent.\",\n",
    "                         \"Behavior control: Narratives containing the idea that the pandemic is being exploited to control the behavior of individuals, either directly through fear, through laws which are only accepted because of fear, or through techniques which are impossible with today’s technology, such as mind control through microchips.\",\n",
    "                         \"Anti vaccination: Narratives that suggest that the COVID-19 vaccines serve some hidden nefarious purpose in this category. Examples include the injection of tracking devices, nanites or an intentional infection with COVID-19, but not concerns about vaccine safety or efficacy, or concerns about the trustworthiness of the producers.\",\n",
    "                         \"Fake virus: Narratives saying that there is no COVID-19 pandemic or that the pandemic is just an over-dramatization of the annual flu season. Example intent is to deceive the population in order to hide deaths from other causes, or to control the behavior of the population through irrational fear.\",\n",
    "                         \"Intentional pandemic: Narratives claiming that the pandemic is the result of purposeful human action pursuing some illicit goal. Does not include asserting that COVID-19 is a bioweapon or discussing whether it was created in a labora-tory since this does not prelude the possibility that it was released accidentally.\",\n",
    "                         \"Harmful radiation: Narratives that connect COVID-19 to wireless transmissions, especially from 5 G equipment, claiming for example that 5 G is deadly and that COVID-19 is a coverup, or that 5 G allows mind control via microchips injected in the bloodstream.\",\n",
    "                         \"Depopulation: Conspiracy theories on population reduction or population growth control suggest that either COVID-19 or the vaccines are being used to reduce population size, either by killing people or by rendering them infertile. In some cases, this is directed against specific ethnic groups.\",\n",
    "                         \"New world order: New World Order (NWO) is a preexisting conspiracy theory which deals with the secret emerging totalitarian world government. In the context of the pandemic, this usually means that COVID-19 is being used to bring about this world government through fear of the virus or by taking away civil liberties, or some other, implausible ideas such as mind control.\",\n",
    "                         \"Satanism: Narratives in which the perpetrators are alleged to be some kind of satanists, perform objectionable rituals, or make use of occult ideas or symbols. May involve harm or sexual abuse of children, such as the idea that global elites harvest adrenochrome from children.\"\n",
    "                         ]\n",
    "\n",
    "\n",
    "conspiracy_names = [\"Suppressed cures\",\n",
    "                   \"Behavior control\",\n",
    "                   \"Anti vaccination\",\n",
    "                   \"Fake virus\",\n",
    "                   \"Intentional pandemic\",\n",
    "                   \"Harmful radiation\",\n",
    "                   \"Depopulation\",\n",
    "                   \"New world order\",\n",
    "                   \"Satanism\"]\n",
    "\n",
    "conspiracy_short_names = ['sc',\n",
    "                         'bmc',\n",
    "                         'av',\n",
    "                         'fv',\n",
    "                         'ip',\n",
    "                         'hri',\n",
    "                         'prc',\n",
    "                         'nwo',\n",
    "                         'sat']\n",
    "\n",
    "conspiracy_short_names_plot = ['SUP',\n",
    "                              'BHC',\n",
    "                              'AVX',\n",
    "                              'FAK',\n",
    "                              'INT',\n",
    "                              'HAR',\n",
    "                              'DEP',\n",
    "                              'NWO',\n",
    "                              'SAT']"
   ]
  },
  {
   "cell_type": "markdown",
   "id": "0f664e04",
   "metadata": {},
   "source": [
    "# Load Data"
   ]
  },
  {
   "cell_type": "code",
   "execution_count": null,
   "id": "892d1efa",
   "metadata": {},
   "outputs": [],
   "source": [
    "path = path/to/mediaeval/data/\n",
    "test_df = pd.read_csv(path+'test-merged-task-1.csv')\n",
    "train_df = pd.read_csv(path+'task_1_dev.csv')\n",
    "d = {}\n",
    "new_c = ['tweet_id', 'sc', 'bmc', 'av', 'fv', 'ip', 'hri', 'prc', 'nwo', 'sat', 'tweet_text']\n",
    "for c in range(0, len(train_df.columns)):\n",
    "    d[train_df.columns[c]]=new_c[c]\n",
    "train_df = train_df.rename(columns = d)"
   ]
  },
  {
   "cell_type": "code",
   "execution_count": null,
   "id": "40ba4300",
   "metadata": {},
   "outputs": [],
   "source": [
    "binary_test_df = test_df.replace(3, 2)\n",
    "binary_train_df = train_df.replace(3, 2)\n",
    "binary_train_df['tweet_id'].iloc[2] = 3"
   ]
  },
  {
   "cell_type": "code",
   "execution_count": null,
   "id": "2a5bc0af",
   "metadata": {},
   "outputs": [],
   "source": [
    "binary_test_df_01 = binary_test_df.copy()\n",
    "for i in range(0, len(binary_test_df)):\n",
    "    binary_test_df_01.iloc[i, 1:10] = binary_test_df_01.iloc[i, 1:10] -1"
   ]
  },
  {
   "cell_type": "markdown",
   "id": "6f3a581c",
   "metadata": {},
   "source": [
    "# Definition generations"
   ]
  },
  {
   "cell_type": "markdown",
   "id": "c8c7ef62",
   "metadata": {},
   "source": [
    "## From the examples"
   ]
  },
  {
   "cell_type": "code",
   "execution_count": null,
   "id": "b475f608",
   "metadata": {},
   "outputs": [],
   "source": [
    "random_seeds = [0, 1, 2, 3, 4]\n",
    "system_message = \"You will be given two sets of tweets. The first set of tweets contains examples of texts that mention the same concept. The second set of tweets contains examples of texts that mention other concepts, but not the same concept that tweets from the first set. Your task is to provide the definition of the concept present in the first set.\"\n",
    "\n",
    "for random_seed in random_seeds:\n",
    "    messages = []\n",
    "    for c in conspiracy_short_names:\n",
    "        positive_examples, positive_ids = sample_from_df(binary_train_df, N=25, column_name=c, level=2, seed = random_seed)\n",
    "        negative_examples, negative_ids = sample_from_df(binary_train_df, N=25, column_name=c, level=1, seed = random_seed)\n",
    "\n",
    "        examples = \"\"\"First set of tweets:\n",
    "\"\"\"\n",
    "        for p in positive_examples:\n",
    "            examples+=' - '+p+'\\n'\n",
    "\n",
    "        examples+=\"\"\"\n",
    "Second set of tweets:\n",
    "\"\"\"\n",
    "        for n in negative_examples:\n",
    "            examples+=' - '+n+'\\n'\n",
    "\n",
    "        user_message = examples+\"\"\"\n",
    "\n",
    "Given those two sets of tweets, what is the definition of the concept present in the first set that is not present in the second set of tweets? Start your answer with: 'The definition of the concept is'\"\"\"\n",
    "\n",
    "        message = [\n",
    "        {\"role\":\"system\", \"content\":system_message},\n",
    "        {\"role\": \"user\", \"content\": user_message}\n",
    "        ]\n",
    "        messages.append(message)\n",
    "    \n",
    "    responses = []\n",
    "    for i in trange(0, len(messages)):\n",
    "        message = messages[i]\n",
    "        response = completions_with_backoff(\n",
    "            model=\"gpt-3.5-turbo\",\n",
    "            messages=message,\n",
    "            temperature=0\n",
    "        )\n",
    "        responses.append(response)\n",
    "        \n",
    "    save_df = pd.DataFrame()\n",
    "    save_df['prompts'] = messages\n",
    "    save_df['responses'] = responses\n",
    "    save_df.to_csv(path+'gpt/example_generated_definitions_seed_%i.csv'%(random_seed), index=False)\n",
    "    \n",
    "    \n"
   ]
  },
  {
   "cell_type": "code",
   "execution_count": null,
   "id": "e4be8afc",
   "metadata": {},
   "outputs": [],
   "source": [
    "eg_definitions_list = []\n",
    "\n",
    "for seed in range(0, 5):\n",
    "    save_df = pd.read_csv(path+'gpt/example_generated_definitions_seed_'+str(seed)+'.csv')\n",
    "    \n",
    "    eg_definitions = []\n",
    "    for i in range(0, 9):\n",
    "        j = json.loads(save_df['responses'].tolist()[i])\n",
    "\n",
    "        eg_definitions.append(j['choices'][0]['message']['content'])\n",
    "    eg_definitions_list.append(fs_definitions)"
   ]
  },
  {
   "cell_type": "markdown",
   "id": "45c71edb",
   "metadata": {},
   "source": [
    "## Paper definitions"
   ]
  },
  {
   "cell_type": "code",
   "execution_count": null,
   "id": "2d721c5c",
   "metadata": {},
   "outputs": [],
   "source": [
    "conspiracy_definitions = [\"Suppressed cures: Narratives which propose that effective medications for COVID-19 were available, but whose existence or effectiveness has been denied by authorities, either for financial gain by the vaccine producers or some other harmful intent.\",\n",
    "                         \"Behavior control: Narratives containing the idea that the pandemic is being exploited to control the behavior of individuals, either directly through fear, through laws which are only accepted because of fear, or through techniques which are impossible with today’s technology, such as mind control through microchips.\",\n",
    "                         \"Anti vaccination: Narratives that suggest that the COVID-19 vaccines serve some hidden nefarious purpose in this category. Examples include the injection of tracking devices, nanites or an intentional infection with COVID-19, but not concerns about vaccine safety or efficacy, or concerns about the trustworthiness of the producers.\",\n",
    "                         \"Fake virus: Narratives saying that there is no COVID-19 pandemic or that the pandemic is just an over-dramatization of the annual flu season. Example intent is to deceive the population in order to hide deaths from other causes, or to control the behavior of the population through irrational fear.\",\n",
    "                         \"Intentional pandemic: Narratives claiming that the pandemic is the result of purposeful human action pursuing some illicit goal. Does not include asserting that COVID-19 is a bioweapon or discussing whether it was created in a labora-tory since this does not prelude the possibility that it was released accidentally.\",\n",
    "                         \"Harmful radiation: Narratives that connect COVID-19 to wireless transmissions, especially from 5 G equipment, claiming for example that 5 G is deadly and that COVID-19 is a coverup, or that 5 G allows mind control via microchips injected in the bloodstream.\",\n",
    "                         \"Depopulation: Conspiracy theories on population reduction or population growth control suggest that either COVID-19 or the vaccines are being used to reduce population size, either by killing people or by rendering them infertile. In some cases, this is directed against specific ethnic groups.\",\n",
    "                         \"New world order: New World Order (NWO) is a preexisting conspiracy theory which deals with the secret emerging totalitarian world government. In the context of the pandemic, this usually means that COVID-19 is being used to bring about this world government through fear of the virus or by taking away civil liberties, or some other, implausible ideas such as mind control.\",\n",
    "                         \"Satanism: Narratives in which the perpetrators are alleged to be some kind of satanists, perform objectionable rituals, or make use of occult ideas or symbols. May involve harm or sexual abuse of children, such as the idea that global elites harvest adrenochrome from children.\"\n",
    "                         ]\n",
    "hw_definitions = conspiracy_definitions\n"
   ]
  },
  {
   "cell_type": "markdown",
   "id": "53eba166",
   "metadata": {
    "collapsed": true
   },
   "source": [
    "# Classification"
   ]
  },
  {
   "cell_type": "markdown",
   "id": "103048a5",
   "metadata": {},
   "source": [
    "## Zero Shot"
   ]
  },
  {
   "cell_type": "code",
   "execution_count": null,
   "id": "a05fc86f",
   "metadata": {},
   "outputs": [],
   "source": [
    "definition = \"hw\" #hw, eg, none\n",
    "\n",
    "for seed in range(0, 5):\n",
    "    tmp = pd.read_csv(path = 'gpt/example_generated_definitions_seed_'+str(seed)+'.csv')\n",
    "    definitions = [json.loads(tmp['responses'].tolist()[i])['choices'][0]['message']['content'] for i in range(0, 9)]\n",
    "    \n",
    "    for c in range(0, 9):\n",
    "        current_conspiracy = conspiracy_names[c]\n",
    "        print(\"Starting zero shot for conspiracy\", current_conspiracy)\n",
    "\n",
    "        system_message = \"\"\"Your task is to label tweets regarding the '\"\"\"+current_conspiracy+\"\"\"' COVID-19 conspiracy theory. The available labels are: 1) mentions the conspiracy, 2) does not mention the conspiracy.\"\"\"\n",
    "        if definition==\"hw\":\n",
    "            system_message += \"\"\"\n",
    "The definition of the '\"\"\"+current_conspiracy+\"\"\"' conspiracy theory is the following:\n",
    "    \"\"\"+hw_definitions[c]\n",
    "        elif definition==\"eg\":\n",
    "            system_message = \"\"\"Your task is to label tweets regarding the '\"\"\"+current_conspiracy+\"\"\"' COVID-19 conspiracy theory. The available labels are: 1) mentions the conspiracy, 2) does not mention the conspiracy.\n",
    "The definition of the '\"\"\"+current_conspiracy+\"\"\"' conspiracy theory is the following:\n",
    "    \"\"\"+definitions[c]\n",
    "\n",
    "        responses = []\n",
    "        messages_list = []\n",
    "        for t in tqdm(binary_test_df['tweet_text'].tolist()[:]):\n",
    "\n",
    "            user_message = \"\"\"Tweet: \"\"\"+t+\"\"\"\n",
    "\n",
    "Does the tweet: 1) mention the '\"\"\"+current_conspiracy+\"\"\"' conspiracy, 2) do not mention the '\"\"\"+current_conspiracy+\"\"\"' conspiracy? Please include the corresponding number in your answer.\"\"\"\n",
    "            messages = [\n",
    "             {\"role\":\"system\", \"content\":system_message},\n",
    "             {\"role\": \"user\", \"content\": user_message}\n",
    "            ]\n",
    "            messages_list.append(messages)\n",
    "            response = completions_with_backoff(\n",
    "                model=\"gpt-3.5-turbo\",\n",
    "                messages=messages,\n",
    "                temperature=0\n",
    "            )\n",
    "            responses.append(response)\n",
    "        df_response = pd.DataFrame()\n",
    "\n",
    "        df_response['tweet'] = binary_test_df['tweet_text'].tolist()\n",
    "        df_response['prompt'] = messages_list\n",
    "        df_response['response'] = responses\n",
    "\n",
    "        df_response.to_csv(path+'gpt/'+str(definition)+'/'+str(conspiracy_short_names[c])+'_'+str(seed)+'.csv', index=False)\n",
    "    "
   ]
  },
  {
   "cell_type": "markdown",
   "id": "432eb66d",
   "metadata": {},
   "source": [
    "# Parsing answers"
   ]
  },
  {
   "cell_type": "code",
   "execution_count": null,
   "id": "d08e745f",
   "metadata": {},
   "outputs": [],
   "source": [
    "def parse_df(df):\n",
    "    pred = []\n",
    "    for r in range(0, len(df['response'].tolist())):\n",
    "        txt = json.loads(df['response'].tolist()[r])['choices'][0]['message']['content']\n",
    "        if \"2\" in txt:\n",
    "            pred.append(0)\n",
    "        elif \"1\" in txt:\n",
    "            pred.append(1)\n",
    "        else:\n",
    "            print(r)\n",
    "    return pred"
   ]
  },
  {
   "cell_type": "code",
   "execution_count": null,
   "id": "ba9752bc",
   "metadata": {},
   "outputs": [],
   "source": [
    "for c in conspiracy_short_names:\n",
    "    df = pd.read_csv(path+'gpt/hw/'+c+'_4.csv')\n",
    "    pred_df = pd.DataFrame()\n",
    "    pred_df['tweet_id'] = binary_test_df['tweet_id'].tolist()\n",
    "    pred_df['tweet'] = df['tweet'].tolist()\n",
    "    pred_df['prompt'] = df['prompt'].tolist()\n",
    "    pred_df['response'] = df['response'].tolist()\n",
    "\n",
    "    pred_df.to_csv(path+'gpt/paper_definition/raw_results_'+c+'.csv', index=False)\n",
    "    "
   ]
  },
  {
   "cell_type": "code",
   "execution_count": null,
   "id": "5d6efb6c",
   "metadata": {},
   "outputs": [],
   "source": [
    "conspiracy_preds = []\n",
    "for c in conspiracy_short_names:\n",
    "    df = pd.read_csv(path+'gpt/hw/'+c+'_4.csv')\n",
    "    conspiracy_preds.append(parse_df(df))\n",
    "\n",
    "pred_df = pd.DataFrame()\n",
    "pred_df['tweet_id'] = binary_test_df['tweet_id'].tolist()\n",
    "for i in range(0, 9):\n",
    "    pred_df[conspiracy_short_names[i]]=conspiracy_preds[i]\n",
    "    \n",
    "pred_df"
   ]
  },
  {
   "cell_type": "code",
   "execution_count": null,
   "id": "d899b787",
   "metadata": {},
   "outputs": [],
   "source": [
    "pred_df.to_csv(path+'gpt/hw_results.csv', index=False)"
   ]
  },
  {
   "cell_type": "code",
   "execution_count": null,
   "id": "3e9c0bdc",
   "metadata": {},
   "outputs": [],
   "source": [
    "df_zs = pd.read_csv(path+'gpt/zs_results.csv')\n",
    "dfs_eg = []\n",
    "for seed in range(0, 5):\n",
    "    df_eg = pd.read_csv(path+'gpt/eg_results_'+str(seed)+'.csv')\n",
    "    dfs_eg.append(df_fs)\n",
    "df_hw = pd.read_csv(path+'gpt/hw_results.csv')\n"
   ]
  },
  {
   "cell_type": "markdown",
   "id": "4d9fa5ee",
   "metadata": {},
   "source": [
    "# Compute metrics"
   ]
  },
  {
   "cell_type": "code",
   "execution_count": null,
   "id": "fb8c43be",
   "metadata": {},
   "outputs": [],
   "source": [
    "from sklearn.metrics import precision_recall_fscore_support, f1_score, precision_score"
   ]
  },
  {
   "cell_type": "code",
   "execution_count": null,
   "id": "bc47fbbf",
   "metadata": {},
   "outputs": [],
   "source": [
    "df = pd.read_csv(path+'gpt/zs_results.csv')\n",
    "ZS_results = []\n",
    "\n",
    "MCCs_zs = []\n",
    "prf_zs = []\n",
    "\n",
    "for i in range(0, 9):\n",
    "    gt = [a-1 for a in binary_test_df[conspiracy_short_names[i]].tolist()]\n",
    "    pred = df[conspiracy_short_names[i]].tolist()\n",
    "    ZS_results.append(pred)\n",
    "    MCCs_zs.append(round(matthews_corrcoef(gt, pred), 3))\n",
    "    prf_zs.append([round(a, 3) if a else 0 for a in precision_recall_fscore_support(gt, pred, average='binary')])\n",
    "MCCs_zs"
   ]
  },
  {
   "cell_type": "code",
   "execution_count": null,
   "id": "c496566b",
   "metadata": {},
   "outputs": [],
   "source": [
    "MCCs_eg_list = []\n",
    "EG_results_list = []\n",
    "prf_eg_list = []\n",
    "for seed in range(0, 5):\n",
    "    df = pd.read_csv(path+'gpt/eg_results_'+str(seed)+'.csv')\n",
    "\n",
    "    MCCs_eg = []\n",
    "    EG_results = []\n",
    "    prf_eg = []\n",
    "    for i in range(0, 9):\n",
    "        gt = [a-1 for a in binary_test_df[conspiracy_short_names[i]].tolist()]\n",
    "        pred = df[conspiracy_short_names[i]].tolist()\n",
    "        EG_results.append(pred)\n",
    "        MCCs_eg.append(round(matthews_corrcoef(gt, pred), 3))\n",
    "        prf_eg.append([round(a, 3) if a else 0 for a in precision_recall_fscore_support(gt, pred, average='binary')])\n",
    "\n",
    "    MCCs_eg_list.append(MCCs_eg)\n",
    "    EG_results_list.append(EG_results)\n",
    "    prf_eg_list.append(prf_eg)\n",
    "MCCs_eg_list"
   ]
  },
  {
   "cell_type": "code",
   "execution_count": null,
   "id": "21a097cb",
   "metadata": {},
   "outputs": [],
   "source": [
    "df = pd.read_csv(path+'gpt/hw_results.csv')\n",
    "\n",
    "MCCs_pa = []\n",
    "PA_results = []\n",
    "prf_pa = []\n",
    "for i in range(0, 9):\n",
    "    gt = [a-1 for a in binary_test_df[conspiracy_short_names[i]].tolist()]\n",
    "    pred = df[conspiracy_short_names[i]].tolist()\n",
    "    MCCs_pa.append(round(matthews_corrcoef(gt, pred), 3))\n",
    "    PA_results.append(pred)\n",
    "    prf_pa.append([round(a, 3) if a else 0 for a in precision_recall_fscore_support(gt, pred, average='binary')])\n",
    "MCCs_pa"
   ]
  },
  {
   "cell_type": "markdown",
   "id": "d72ee08b",
   "metadata": {},
   "source": [
    "# Plot results"
   ]
  },
  {
   "cell_type": "code",
   "execution_count": null,
   "id": "a4166cfe",
   "metadata": {},
   "outputs": [],
   "source": [
    "conspiracies = []\n",
    "models = []\n",
    "MCCs = []\n",
    "\n",
    "for m in range(0, 6):\n",
    "    for c in range(0, 9):\n",
    "        conspiracies.append(conspiracy_short_names_plot[c])\n",
    "        if m==0:\n",
    "            models.append('ZS')\n",
    "            MCCs.append(MCCs_zs[c])\n",
    "        elif m==5:\n",
    "            models.append('+ HW def')\n",
    "            MCCs.append(MCCs_hw[c])\n",
    "        else:\n",
    "            models.append('+ EG def')\n",
    "            MCCs.append(MCCs_eg_list[m-1][c])\n",
    "            \n",
    "tmp = pd.DataFrame()\n",
    "tmp['Conspiracy'] = conspiracies\n",
    "tmp['Model'] = models\n",
    "tmp['MCC'] = MCCs\n",
    "\n",
    "tmp"
   ]
  },
  {
   "cell_type": "code",
   "execution_count": null,
   "id": "7a3bc077",
   "metadata": {},
   "outputs": [],
   "source": [
    "plt.rcParams['figure.figsize'] = [5, 3]"
   ]
  },
  {
   "cell_type": "code",
   "execution_count": null,
   "id": "f72c08e6",
   "metadata": {},
   "outputs": [],
   "source": [
    "sn.set_style(\"darkgrid\")\n",
    "plt.ylim([0, 1.0])\n",
    "col = ['red', 'orange', 'green', 'grey']\n",
    "sn.barplot(tmp, x='Conspiracy', y='MCC', hue='Model', palette = col, errwidth=.5, capsize=.2, errorbar=(\"pi\", 100))\n",
    "plt.legend(loc='upper right')\n",
    "plt.show()"
   ]
  }
 ],
 "metadata": {
  "kernelspec": {
   "display_name": "Python 3 (ipykernel)",
   "language": "python",
   "name": "python3"
  },
  "language_info": {
   "codemirror_mode": {
    "name": "ipython",
    "version": 3
   },
   "file_extension": ".py",
   "mimetype": "text/x-python",
   "name": "python",
   "nbconvert_exporter": "python",
   "pygments_lexer": "ipython3",
   "version": "3.8.16"
  }
 },
 "nbformat": 4,
 "nbformat_minor": 5
}
